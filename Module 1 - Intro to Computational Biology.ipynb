{
 "cells": [
  {
   "cell_type": "markdown",
   "id": "standard-winner",
   "metadata": {},
   "source": [
    "# Module 1: Introduction to Computational Biology\n",
    "\n",
    "## Welcome to Module 1!\n",
    "\n",
    "Each week's module will usually consist of a short reading and an assignment. The assignment may be a programming exercise, writing activity, or exploration of research. This week's module is a short article about computational biology and then a writing assignment.\n",
    "\n",
    "## About this format\n",
    "This environment is called a **Jupyter Notebook**. It's a special kind of document that allows mixing code and text. There won't be any code in this document, but future modules will make use of (and more thoroughly explain) that functionality. For now, we encourage you to play around with the environment, and try to see how things work!"
   ]
  },
  {
   "cell_type": "markdown",
   "id": "strange-victory",
   "metadata": {},
   "source": [
    "# What is Computational Biology?\n",
    "**Modern biology is in the middle of a paradigm shift...***\n",
    "\n",
    "Taken from an [article](http://cbd.cmu.edu/about-us/what-is-computational-biology.html) by [Robert M. Murphy](http://murphylab.web.cmu.edu/).\n",
    "\n",
    "*Computational biology* is the science that answers the question “How can we learn and use models of biological systems constructed from experimental measurements?”  These models may describe what biological tasks are carried out by particular nucleic acid or peptide sequences, which gene (or genes) when expressed produce a particular phenotype or behavior, what sequence of changes in gene or protein expression or localization lead to a particular disease, and how changes in cell organization influence cell behavior. This field is sometimes referred to as *bioinformatics*, but many scientists use the latter term to describe the field that answers the question “How can I efficiently store, annotate, search and compare information from biological measurements and observations?”  (This subject has been discussed previously by an early NIH task force report and by Raul Isea.)\n",
    " \n",
    "A number of factors contribute to the confusion between the terms, including the fact that one of the top journals in computational biology is entitled “Bioinformatics” and that in German for example, computer science is referred to as “informatik” and computational biology is referred to as “bioinformatik.” Some also feel that bioinformatics emphasizes the information flow in biology. In any case, the two fields are closely linked, since “bioinformatics” systems typically are needed to provide data to “computational biology” systems that create models, and the results of those models are often returned for storage in “bioinformatics” databases.\n",
    "Computational biology is a very broad discipline, in that it seeks to build models for diverse types of experimental data (e.g., concentrations, sequences, images, etc.) and biological systems (e.g., molecules, cells, tissues, organs, etc.), and that it uses methods from a wide range of mathematical and computational fields (e.g., complexity theory, algorithmics, machine learning, robotics, etc.).\n",
    "\n",
    "Perhaps the most important task that computational biologists carry out (and that training in computational biology should equip prospective computational biologists to do) is to *frame* biomedical problems as computational problems. This often means looking at a biological system in a new way, challenging current assumptions or theories about the relationships between parts of the system, or integrating different sources of information to make a more comprehensive model than had been attempted before.  In this context, it is worth noting that the primary goal need not be to increase human understanding of the system; even small biological systems can be sufficiently complex that scientists cannot fully comprehend or predict their properties.  Thus the goal can be the creation of the model itself; the model should account for as much currently available experimental data as possible.  Note that this does not mean that the model has been *proven*, even if the model makes one or more correct predictions about new experiments.  With the exception of very restricted cases, it is not possible to *prove* that a model is correct, only to *disprove* it and then *improve* it by modifying it to incorporate the new results.\n",
    "\n",
    "This view emphasizes the importance of machine learning for constructing models.  In most current machine learning applications, statistical and computational methods are used to construct models from large existing datasets and those models are used to process new data.  Examples include learning to classify spam emails, to enable fingerprint access to your phone, and to recognize human speech.  However, an increasing number of machine learning applications don’t stop learning after their initial training.  They can either learn from additional data as it becomes available, or, even choose what additional data they would like to learn from.  This last area is termed active machine learning, and it promises to play a very important role in biomedical research in the coming years.\n",
    "\n",
    "Once the problem has been framed, the second major task of computational biologists begins.  This is to borrow, refine, or invent methods to solve the problem.  Current computational biology research can be divided into a number of broad areas, mainly based on the type of experimental data that is analyzed or modeled.  Among these are analysis of protein and nucleic acid structure and function, gene and protein sequence, evolutionary genomics and proteomics, population genomics, regulatory and metabolic networks, biomedical image analysis and modeling, gene-disease associations, and development and spread of disease."
   ]
  },
  {
   "cell_type": "markdown",
   "id": "subject-disabled",
   "metadata": {},
   "source": [
    "# Assignment\n",
    "\n",
    "In lecture, we briefly discussed the different subfields of computational biology in the context of the central dogma of biology. These subfields include population genetics, systems biology, and structural biology. \n",
    "\n",
    "However, this is just a small subset of the different fields of computational biology, and there are research topics and techniques that use data at all steps of the central dogma (e.g. bioinformatics, biophysics, precision medicine). \n",
    "\n",
    "This week, we'd like you to explore one subfield of computational biology.\n",
    "\n",
    "**Assignment:** Choose a subfield of computational biology. It can be one we mentioned in class or one that we haven't discussed yet. In two paragraphs of 3-5 sentences each, and in your own words, describe what kind of research the subfield explores, the data that is analyzed or modeled, and current questions researchers in the field are trying to address. Try to see if you can find or reference at least 1 news article about your topic!\n",
    "\n",
    "**How to complete the assignment:** Make a new *cell* in this notebook below this one. To do this, choose Insert > \"Insert Cell Below\" from the upper menu, or select this cell and press b on your keyboard. From here, change the cell type from \"Code\" to \"Markdown\" using the dropdown menu just under the top menu bar on the screen, or by selecting the cell and pressing m on your keyboard. From here, type your answer in the box, save the file, and download it from the top menu (File > \"Download As\" > \"Notebook (.ipynb)\"). You can then upload the .ipynb file downloaded onto the assignment on bCourses.\n",
    "\n",
    "## Potential Topics\n",
    "Here are some topics and descriptions adopted from the Berkeley Connect Fa20 Class by Ana Lyons. However, you are not limited to these topics, and are encouraged to seek out other topics as well! (To show the slides, click on the text box below and press Ctrl+Enter, or Cmd+Enter on Macs)"
   ]
  },
  {
   "cell_type": "code",
   "execution_count": 1,
   "id": "thrown-struggle",
   "metadata": {},
   "outputs": [
    {
     "data": {
      "text/html": [
       "<iframe src=\"https://docs.google.com/presentation/d/e/2PACX-1vRoigjoS4VR2I_1k340TBnQmQtHv1Y86-9GL53dcRg_MiWcdYDccDT04mW1oiaHigy9tiiE0iActIcb/embed?start=false&loop=false&delayms=3000\" frameborder=\"0\" width=\"660\" height=\"400\" allowfullscreen=\"true\" mozallowfullscreen=\"true\" webkitallowfullscreen=\"true\"></iframe>\n"
      ],
      "text/plain": [
       "<IPython.core.display.HTML object>"
      ]
     },
     "metadata": {},
     "output_type": "display_data"
    }
   ],
   "source": [
    "%%html\n",
    "<iframe src=\"https://docs.google.com/presentation/d/e/2PACX-1vRoigjoS4VR2I_1k340TBnQmQtHv1Y86-9GL53dcRg_MiWcdYDccDT04mW1oiaHigy9tiiE0iActIcb/embed?start=false&loop=false&delayms=3000\" frameborder=\"0\" width=\"660\" height=\"400\" allowfullscreen=\"true\" mozallowfullscreen=\"true\" webkitallowfullscreen=\"true\"></iframe>"
   ]
  },
  {
   "cell_type": "markdown",
   "id": "impaired-portrait",
   "metadata": {},
   "source": [
    "# Optional Reading (highly recommended)\n",
    "\n",
    "An important part of this DeCal is the semester-long collaborative research project, and one of the first steps in this project is to formulate a research question and write a project proposal. Here is a [paper](https://drive.google.com/file/d/1MUIWLz7TKhZUArGBbI8V5PuxsEkDnt7l/view) on how to choose a good scientific problem, which will prepare you for the first few weeks of the project. While reading, please consider how the author's advice can fit into the collaborative environment that we want to foster in ULAB! \n",
    "\n",
    "Note: The link might not open the PDF in your browser, but you should be able to download the file."
   ]
  }
 ],
 "metadata": {
  "history": [
   {
    "code": "%%html\n<iframe src=\"https://docs.google.com/presentation/d/e/2PACX-1vRoigjoS4VR2I_1k340TBnQmQtHv1Y86-9GL53dcRg_MiWcdYDccDT04mW1oiaHigy9tiiE0iActIcb/embed?start=false&loop=false&delayms=3000\" frameborder=\"0\" width=\"960\" height=\"569\" allowfullscreen=\"true\" mozallowfullscreen=\"true\" webkitallowfullscreen=\"true\"></iframe>\n",
    "id": "69aa4d206f0c4e8da8d340461b0c3173",
    "idx": 3,
    "time": "2021-02-04T04:22:19.653Z",
    "type": "execution"
   },
   {
    "id": "69aa4d206f0c4e8da8d340461b0c3173",
    "time": "2021-02-04T04:22:19.809Z",
    "type": "completion"
   },
   {
    "code": "%%html\n<iframe src=\"https://docs.google.com/presentation/d/e/2PACX-1vRoigjoS4VR2I_1k340TBnQmQtHv1Y86-9GL53dcRg_MiWcdYDccDT04mW1oiaHigy9tiiE0iActIcb/embed?start=false&loop=false&delayms=3000\" frameborder=\"0\" width=\"960\" height=\"569\" allowfullscreen=\"true\" mozallowfullscreen=\"true\" webkitallowfullscreen=\"true\"></iframe>",
    "id": "69aa4d206f0c4e8da8d340461b0c3173",
    "idx": 3,
    "time": "2021-02-04T04:22:35.303Z",
    "type": "execution"
   },
   {
    "id": "69aa4d206f0c4e8da8d340461b0c3173",
    "time": "2021-02-04T04:22:35.416Z",
    "type": "completion"
   },
   {
    "code": "%%html\n<iframe src=\"https://docs.google.com/presentation/d/e/2PACX-1vRoigjoS4VR2I_1k340TBnQmQtHv1Y86-9GL53dcRg_MiWcdYDccDT04mW1oiaHigy9tiiE0iActIcb/embed?start=false&loop=false&delayms=3000\" frameborder=\"0\" width=\"660\" height=\"400\" allowfullscreen=\"true\" mozallowfullscreen=\"true\" webkitallowfullscreen=\"true\"></iframe>",
    "id": "69aa4d206f0c4e8da8d340461b0c3173",
    "idx": 3,
    "time": "2021-02-04T04:25:28.677Z",
    "type": "execution"
   },
   {
    "id": "69aa4d206f0c4e8da8d340461b0c3173",
    "time": "2021-02-04T04:25:28.909Z",
    "type": "completion"
   },
   {
    "code": "%%html\n<iframe src=\"https://docs.google.com/presentation/d/e/2PACX-1vRoigjoS4VR2I_1k340TBnQmQtHv1Y86-9GL53dcRg_MiWcdYDccDT04mW1oiaHigy9tiiE0iActIcb/embed?start=false&loop=false&delayms=3000\" frameborder=\"0\" width=\"660\" height=\"400\" allowfullscreen=\"true\" mozallowfullscreen=\"true\" webkitallowfullscreen=\"true\"></iframe>",
    "id": "534f8cae08024c2a8f1d7b7bc3f9eabf",
    "idx": 3,
    "time": "2021-02-04T06:15:29.236Z",
    "type": "execution"
   },
   {
    "id": "534f8cae08024c2a8f1d7b7bc3f9eabf",
    "time": "2021-02-04T06:15:29.315Z",
    "type": "completion"
   }
  ],
  "kernelspec": {
   "display_name": "Python 3",
   "language": "python",
   "name": "python3"
  },
  "language_info": {
   "codemirror_mode": {
    "name": "ipython",
    "version": 3
   },
   "file_extension": ".py",
   "mimetype": "text/x-python",
   "name": "python",
   "nbconvert_exporter": "python",
   "pygments_lexer": "ipython3",
   "version": "3.8.6"
  }
 },
 "nbformat": 4,
 "nbformat_minor": 5
}
